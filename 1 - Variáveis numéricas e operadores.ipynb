{
  "nbformat": 4,
  "nbformat_minor": 0,
  "metadata": {
    "kernelspec": {
      "display_name": "Python 3",
      "language": "python",
      "name": "python3"
    },
    "language_info": {
      "codemirror_mode": {
        "name": "ipython",
        "version": 3
      },
      "file_extension": ".py",
      "mimetype": "text/x-python",
      "name": "python",
      "nbconvert_exporter": "python",
      "pygments_lexer": "ipython3",
      "version": "3.7.3"
    },
    "colab": {
      "name": "1 - Variáveis numéricas e operadores.ipynb",
      "provenance": [],
      "collapsed_sections": []
    }
  },
  "cells": [
    {
      "cell_type": "markdown",
      "metadata": {
        "id": "izY6YRELguwx"
      },
      "source": [
        "## 1 - Variáveis Numéricas\n",
        "##### Uma variável numérica pode ser:\n",
        "* Int (Inteiro)\n",
        "* Float (Possui casas decimais)\n",
        "* Complex (Complexo) "
      ]
    },
    {
      "cell_type": "markdown",
      "metadata": {
        "id": "r0FwjuKfmqfV"
      },
      "source": [
        "#### 1.1 Números inteiros.\n"
      ]
    },
    {
      "cell_type": "markdown",
      "metadata": {
        "id": "bSPIeSRCnKGJ"
      },
      "source": [
        "###### Pode-se atribuir números inteiros a uma varíavel. O sinal '=' atribui um valor a variável. "
      ]
    },
    {
      "cell_type": "code",
      "metadata": {
        "colab": {
          "base_uri": "https://localhost:8080/"
        },
        "id": "jYP7cGKVS417",
        "outputId": "ce1d0509-5890-4b2e-9d7f-aeaa42b1cef3"
      },
      "source": [
        "x = 20 \n",
        "\n",
        "print(x)"
      ],
      "execution_count": null,
      "outputs": [
        {
          "output_type": "execute_result",
          "data": {
            "text/plain": [
              "20"
            ]
          },
          "metadata": {
            "tags": []
          },
          "execution_count": 6
        }
      ]
    },
    {
      "cell_type": "markdown",
      "metadata": {
        "id": "KAALbLMto_BT"
      },
      "source": [
        "Com a função type(), pode-se verificar o tipo da variável em questão."
      ]
    },
    {
      "cell_type": "code",
      "metadata": {
        "colab": {
          "base_uri": "https://localhost:8080/"
        },
        "id": "AunSBiCyS419",
        "outputId": "9664e7fd-f248-4e6b-e978-5057c72d42ff"
      },
      "source": [
        "type(x)"
      ],
      "execution_count": null,
      "outputs": [
        {
          "output_type": "execute_result",
          "data": {
            "text/plain": [
              "int"
            ]
          },
          "metadata": {
            "tags": []
          },
          "execution_count": 16
        }
      ]
    },
    {
      "cell_type": "markdown",
      "metadata": {
        "id": "cDajj0N8reW-"
      },
      "source": [
        "###### É possível atribuir números inteiros a múltiplas variáveis numa só linha."
      ]
    },
    {
      "cell_type": "code",
      "metadata": {
        "colab": {
          "base_uri": "https://localhost:8080/"
        },
        "id": "aPGEhVBOS41_",
        "outputId": "d5f58b53-5620-4fbf-d771-6bb2f8637482"
      },
      "source": [
        "y, z = 10, -20\n",
        "\n",
        "print(y,z)"
      ],
      "execution_count": null,
      "outputs": [
        {
          "output_type": "stream",
          "text": [
            "10 -20\n"
          ],
          "name": "stdout"
        }
      ]
    },
    {
      "cell_type": "markdown",
      "metadata": {
        "id": "OykVrnHTjYo0"
      },
      "source": [
        "##### Se mais de um valor for atribuido a mesma variável a saída é uma tupla. A tupla será tratada mais adiante em outros notebooks."
      ]
    },
    {
      "cell_type": "code",
      "metadata": {
        "colab": {
          "base_uri": "https://localhost:8080/"
        },
        "id": "278gWY-_jNim",
        "outputId": "986ebfd0-7cc5-48fa-fd31-39331ede4129"
      },
      "source": [
        "w = 1,5 \n",
        "\n",
        "print(w)\n",
        "type(w)"
      ],
      "execution_count": null,
      "outputs": [
        {
          "output_type": "stream",
          "text": [
            "(1, 5)\n"
          ],
          "name": "stdout"
        },
        {
          "output_type": "execute_result",
          "data": {
            "text/plain": [
              "tuple"
            ]
          },
          "metadata": {
            "tags": []
          },
          "execution_count": 3
        }
      ]
    },
    {
      "cell_type": "markdown",
      "metadata": {
        "id": "9XnWVqQR8v-W"
      },
      "source": [
        "###### Existem operadores para realizar calculos aritméticos. O operador \"+\" representa uma soma e \"-\" representa uma subtração."
      ]
    },
    {
      "cell_type": "code",
      "metadata": {
        "colab": {
          "base_uri": "https://localhost:8080/"
        },
        "id": "wqqLmQa98YNu",
        "outputId": "91b92cc9-1674-483a-aba2-7cb8cbfda7f5"
      },
      "source": [
        "x = 20\n",
        "y = 10\n",
        "z = -20\n",
        "\n",
        "print(y - z + x)"
      ],
      "execution_count": null,
      "outputs": [
        {
          "output_type": "stream",
          "text": [
            "50\n"
          ],
          "name": "stdout"
        }
      ]
    },
    {
      "cell_type": "markdown",
      "metadata": {
        "id": "erO1UTjS_y96"
      },
      "source": [
        "###### O operador \"*\" representa uma multiplicação e \"/\" representa uma divisão. "
      ]
    },
    {
      "cell_type": "code",
      "metadata": {
        "colab": {
          "base_uri": "https://localhost:8080/"
        },
        "id": "HnvnelpE_aeg",
        "outputId": "f12d9ba9-7727-460c-cfbc-f7e7c80910e8"
      },
      "source": [
        "x = 20\n",
        "y = 10\n",
        "z = -15\n",
        "\n",
        "print((y/x)*z)"
      ],
      "execution_count": null,
      "outputs": [
        {
          "output_type": "stream",
          "text": [
            "-7.5\n"
          ],
          "name": "stdout"
        }
      ]
    },
    {
      "cell_type": "markdown",
      "metadata": {
        "id": "4Io0dI2C1mtr"
      },
      "source": [
        "##### O operador \"%\" retorna o resto da divisão."
      ]
    },
    {
      "cell_type": "code",
      "metadata": {
        "colab": {
          "base_uri": "https://localhost:8080/"
        },
        "id": "kwKGUDaj1MZm",
        "outputId": "56aadbd8-dc68-4fb5-a111-e0d1a3439074"
      },
      "source": [
        "x = 20\n",
        "y = 10\n",
        "z = 5\n",
        "w = 2\n",
        "print(x%y)\n",
        "print(z%w)"
      ],
      "execution_count": null,
      "outputs": [
        {
          "output_type": "stream",
          "text": [
            "0\n",
            "1\n"
          ],
          "name": "stdout"
        }
      ]
    },
    {
      "cell_type": "markdown",
      "metadata": {
        "id": "nnx9Ft7F74NV"
      },
      "source": [
        "##### O operador \"//\" é a divisão de piso. A divisão de piso não retorna números decimais, somente inteiros.\n"
      ]
    },
    {
      "cell_type": "code",
      "metadata": {
        "colab": {
          "base_uri": "https://localhost:8080/"
        },
        "id": "kST0Kgbc7pLi",
        "outputId": "a347b5e3-6521-44cf-e2da-e5ad0c1b26a1"
      },
      "source": [
        "x = 20\n",
        "y = 11\n",
        "\n",
        "print(x/y)\n",
        "print(x//y)"
      ],
      "execution_count": null,
      "outputs": [
        {
          "output_type": "stream",
          "text": [
            "1.8181818181818181\n",
            "1\n"
          ],
          "name": "stdout"
        }
      ]
    },
    {
      "cell_type": "markdown",
      "metadata": {
        "id": "2FxJSk9Dhx_4"
      },
      "source": [
        "##### Outros operadores aritiméticos também podem ser usados com números inteiros e serão apresentados a seguir."
      ]
    },
    {
      "cell_type": "markdown",
      "metadata": {
        "id": "dzQiQ5mh7WU2"
      },
      "source": [
        "#### 1.2 Números decimais."
      ]
    },
    {
      "cell_type": "markdown",
      "metadata": {
        "id": "OwamRtIChRRr"
      },
      "source": [
        "Os números decimais são chamados de float."
      ]
    },
    {
      "cell_type": "code",
      "metadata": {
        "colab": {
          "base_uri": "https://localhost:8080/"
        },
        "id": "dXxnHdEhS42A",
        "outputId": "30af2ea2-7ac5-4b75-8981-fc2229b2ac1e"
      },
      "source": [
        "x = 1.5\n",
        "\n",
        "print(x)\n",
        "type(x)"
      ],
      "execution_count": null,
      "outputs": [
        {
          "output_type": "stream",
          "text": [
            "1.5\n"
          ],
          "name": "stdout"
        },
        {
          "output_type": "execute_result",
          "data": {
            "text/plain": [
              "float"
            ]
          },
          "metadata": {
            "tags": []
          },
          "execution_count": 5
        }
      ]
    },
    {
      "cell_type": "markdown",
      "metadata": {
        "id": "r8lKx7-mlyFM"
      },
      "source": [
        "##### O operador '**' representa um expoente."
      ]
    },
    {
      "cell_type": "code",
      "metadata": {
        "colab": {
          "base_uri": "https://localhost:8080/"
        },
        "id": "disFj27jWkgc",
        "outputId": "207e3350-c81f-4063-9c14-78f8b8f3e35b"
      },
      "source": [
        "x = 1.5\n",
        "y = 2\n",
        "\n",
        "print(x**y)"
      ],
      "execution_count": null,
      "outputs": [
        {
          "output_type": "stream",
          "text": [
            "2.25\n"
          ],
          "name": "stdout"
        }
      ]
    },
    {
      "cell_type": "markdown",
      "metadata": {
        "id": "8F7CrC5_oTWZ"
      },
      "source": [
        "##### Caso queira realizar a raiz quadrada de um número, utilize o mesmo operador acima com o inverso do número do expoente."
      ]
    },
    {
      "cell_type": "code",
      "metadata": {
        "colab": {
          "base_uri": "https://localhost:8080/"
        },
        "id": "8GhNat3JoSqU",
        "outputId": "b01f4d59-c32f-44c0-e26c-050fb7c40d26"
      },
      "source": [
        "x = 1.5\n",
        "y = 2\n",
        "\n",
        "print(x**(1/y))"
      ],
      "execution_count": null,
      "outputs": [
        {
          "output_type": "stream",
          "text": [
            "1.224744871391589\n"
          ],
          "name": "stdout"
        }
      ]
    },
    {
      "cell_type": "markdown",
      "metadata": {
        "id": "R6nnfbJ3piDB"
      },
      "source": [
        "##### Números em notação ciêntifica também são float"
      ]
    },
    {
      "cell_type": "code",
      "metadata": {
        "colab": {
          "base_uri": "https://localhost:8080/"
        },
        "id": "xvL7e2jDphMC",
        "outputId": "3f278adf-a0b9-434c-dd9d-f8fc6ff83d2e"
      },
      "source": [
        "x = 1.2332e10\n",
        "y = 2.1221e10\n",
        "\n",
        "print(x+y)\n",
        "type(x)"
      ],
      "execution_count": null,
      "outputs": [
        {
          "output_type": "stream",
          "text": [
            "33553000000.0\n"
          ],
          "name": "stdout"
        },
        {
          "output_type": "execute_result",
          "data": {
            "text/plain": [
              "float"
            ]
          },
          "metadata": {
            "tags": []
          },
          "execution_count": 34
        }
      ]
    },
    {
      "cell_type": "markdown",
      "metadata": {
        "id": "jj4myhS2xKBz"
      },
      "source": [
        "##### Se não houver formatação na saída, o Python ira retornar o número por extenso. Para receber o número em notação ciêntifica, utiliza-se métodos de formatação. A primeira parte (\"{:.3e}\") formatará o número. O número 3 representa a quantidade de números decimais que serão mostrados. Formatações serão devidamente explicadas em outros notebooks.\n"
      ]
    },
    {
      "cell_type": "code",
      "metadata": {
        "colab": {
          "base_uri": "https://localhost:8080/"
        },
        "id": "Vl7zQlV0vdYr",
        "outputId": "2f4b2eb4-0938-4d18-d7ce-ece40814ef70"
      },
      "source": [
        "x = 1.2332e10\n",
        "y = 2.1221e10\n",
        "\n",
        "print(\"{:.1e}\".format(x+y))\n",
        "print(\"{:.2e}\".format(x+y))\n",
        "print(\"{:.3e}\".format(x+y))\n",
        "print(\"{:.4e}\".format(x+y))"
      ],
      "execution_count": null,
      "outputs": [
        {
          "output_type": "stream",
          "text": [
            "3.4e+10\n",
            "3.36e+10\n",
            "3.355e+10\n",
            "3.3553e+10\n"
          ],
          "name": "stdout"
        }
      ]
    },
    {
      "cell_type": "markdown",
      "metadata": {
        "id": "GozKRj8RzXUe"
      },
      "source": [
        "#### 1.2 Números complexos."
      ]
    },
    {
      "cell_type": "markdown",
      "metadata": {
        "id": "wMzuB_tx2Col"
      },
      "source": [
        "##### Os números complexos são chamados de complex."
      ]
    },
    {
      "cell_type": "code",
      "metadata": {
        "colab": {
          "base_uri": "https://localhost:8080/"
        },
        "id": "aVrL39EkzWoU",
        "outputId": "49cc635a-8e60-43e0-e6a8-a5468b261194"
      },
      "source": [
        "x = 1.23 + 5j\n",
        "y = 2.42 + 2.5J\n",
        "\n",
        "print(x+y)\n",
        "print(x**y)\n",
        "type(x)"
      ],
      "execution_count": null,
      "outputs": [
        {
          "output_type": "stream",
          "text": [
            "(3.65+7.5j)\n",
            "(0.975902527136128+1.6304745716815339j)\n"
          ],
          "name": "stdout"
        },
        {
          "output_type": "execute_result",
          "data": {
            "text/plain": [
              "complex"
            ]
          },
          "metadata": {
            "tags": []
          },
          "execution_count": 35
        }
      ]
    },
    {
      "cell_type": "code",
      "metadata": {
        "colab": {
          "base_uri": "https://localhost:8080/"
        },
        "id": "OPgCXZkE6ehG",
        "outputId": "e7f486ba-c493-43d1-ad3e-e697bdaec45b"
      },
      "source": [
        "x = 1.23 + 5j\n",
        "y = 2.42 + 2.5J\n",
        "\n",
        "print(x/y)\n",
        "print(x*y)"
      ],
      "execution_count": null,
      "outputs": [
        {
          "output_type": "stream",
          "text": [
            "(1.2783816824159124+0.7454734685786031j)\n",
            "(-9.5234+15.175j)\n"
          ],
          "name": "stdout"
        }
      ]
    },
    {
      "cell_type": "markdown",
      "metadata": {
        "id": "49AsJex_MCVj"
      },
      "source": [
        "#### 1.4 Operadores de atribuição Python.\n"
      ]
    },
    {
      "cell_type": "markdown",
      "metadata": {
        "id": "XgdnGwNDOjfj"
      },
      "source": [
        "##### O Python permite que ocorra uma operação aritimética com o valor da própria variável"
      ]
    },
    {
      "cell_type": "markdown",
      "metadata": {
        "id": "OO03LBASPVXt"
      },
      "source": [
        "##### Soma e subtração"
      ]
    },
    {
      "cell_type": "code",
      "metadata": {
        "colab": {
          "base_uri": "https://localhost:8080/"
        },
        "id": "nl3TeDSaL-nx",
        "outputId": "66c7cfd6-7c90-4738-fd50-67002fd511cd"
      },
      "source": [
        "x = 10\n",
        "x += 3\n",
        "print(x)\n",
        "\n",
        "y = 12\n",
        "y -= 2\n",
        "print(y)"
      ],
      "execution_count": null,
      "outputs": [
        {
          "output_type": "stream",
          "text": [
            "13\n",
            "10\n"
          ],
          "name": "stdout"
        }
      ]
    },
    {
      "cell_type": "markdown",
      "metadata": {
        "id": "iRSJniaBQjio"
      },
      "source": [
        "Multiplicação e divisão"
      ]
    },
    {
      "cell_type": "code",
      "metadata": {
        "colab": {
          "base_uri": "https://localhost:8080/"
        },
        "id": "Hg-RX7MQL-2C",
        "outputId": "36eea4b9-d52b-4ed7-fbf6-59eb7a12e7ad"
      },
      "source": [
        "x = 10\n",
        "x *= 3\n",
        "print(x)\n",
        "\n",
        "y = 12\n",
        "y /= 2\n",
        "print(y)"
      ],
      "execution_count": null,
      "outputs": [
        {
          "output_type": "stream",
          "text": [
            "30\n",
            "6.0\n"
          ],
          "name": "stdout"
        }
      ]
    },
    {
      "cell_type": "markdown",
      "metadata": {
        "id": "bRvHOf3hRWud"
      },
      "source": [
        "Expoente, resto e divisão de piso"
      ]
    },
    {
      "cell_type": "code",
      "metadata": {
        "colab": {
          "base_uri": "https://localhost:8080/"
        },
        "id": "AH83_x-_RV8J",
        "outputId": "c5e5a359-22ea-4a93-d49a-23c9c715b5bd"
      },
      "source": [
        "y = 2\n",
        "y **= 3\n",
        "print(y)\n",
        "\n",
        "x = 10\n",
        "x %= 3\n",
        "print(x)\n",
        "\n",
        "w = 20\n",
        "w //= 3\n",
        "print(w)"
      ],
      "execution_count": null,
      "outputs": [
        {
          "output_type": "stream",
          "text": [
            "8\n",
            "1\n",
            "6\n"
          ],
          "name": "stdout"
        }
      ]
    },
    {
      "cell_type": "markdown",
      "metadata": {
        "id": "h1_CYeMMTbxu"
      },
      "source": [
        "#### 1.6 Funções numéricas.\n"
      ]
    },
    {
      "cell_type": "markdown",
      "metadata": {
        "id": "f3fnqUFTTl_L"
      },
      "source": [
        "Para receber o número absoluto utilize a função abs()"
      ]
    },
    {
      "cell_type": "code",
      "metadata": {
        "colab": {
          "base_uri": "https://localhost:8080/"
        },
        "id": "PnLPZDyeScX4",
        "outputId": "40292553-526b-46c0-d7bd-f3b554ce6af1"
      },
      "source": [
        "x = -1.234\n",
        "abs(x)"
      ],
      "execution_count": null,
      "outputs": [
        {
          "output_type": "execute_result",
          "data": {
            "text/plain": [
              "1.234"
            ]
          },
          "metadata": {
            "tags": []
          },
          "execution_count": 32
        }
      ]
    },
    {
      "cell_type": "markdown",
      "metadata": {
        "id": "qGY90RZ1Ux5v"
      },
      "source": [
        "Utilize a função pow() para obter a potência do número. Mesma operação que x**y"
      ]
    },
    {
      "cell_type": "code",
      "metadata": {
        "colab": {
          "base_uri": "https://localhost:8080/"
        },
        "id": "0dQ2Jnj8UbwD",
        "outputId": "5c667011-26e6-4462-d15e-f9f7848eedf6"
      },
      "source": [
        "x = 2\n",
        "y = 3\n",
        "pow(x,y)"
      ],
      "execution_count": null,
      "outputs": [
        {
          "output_type": "execute_result",
          "data": {
            "text/plain": [
              "8"
            ]
          },
          "metadata": {
            "tags": []
          },
          "execution_count": 33
        }
      ]
    },
    {
      "cell_type": "markdown",
      "metadata": {
        "id": "nI78D2wTVoxG"
      },
      "source": [
        "Utilize a função round() para arredondar um número. A função recebe dois argumentos. O primeiro é o número a ser arredondado. O segundo é o numero de casas decimais a serem mantidas."
      ]
    },
    {
      "cell_type": "code",
      "metadata": {
        "colab": {
          "base_uri": "https://localhost:8080/"
        },
        "id": "9i-Q-sGNVnKF",
        "outputId": "7f4dd9c1-fb93-4743-d55a-f61f377d3af3"
      },
      "source": [
        "x = 1.2345\n",
        "round(x, 2)"
      ],
      "execution_count": null,
      "outputs": [
        {
          "output_type": "execute_result",
          "data": {
            "text/plain": [
              "1.23"
            ]
          },
          "metadata": {
            "tags": []
          },
          "execution_count": 37
        }
      ]
    },
    {
      "cell_type": "markdown",
      "metadata": {
        "id": "u_8NUS2yVnu8"
      },
      "source": [
        "#### 1.7 Comparação numérica\n",
        "\n"
      ]
    },
    {
      "cell_type": "markdown",
      "metadata": {
        "id": "edwYYcc2YeWJ"
      },
      "source": [
        "Para averiguar se uma variável é igual a outra utiliza-se o operador \"==\". O retorno é do tipo booleano."
      ]
    },
    {
      "cell_type": "code",
      "metadata": {
        "colab": {
          "base_uri": "https://localhost:8080/"
        },
        "id": "1tvEOS_XYZJ8",
        "outputId": "e215a3e5-3242-45a2-e366-25e66e22edf3"
      },
      "source": [
        "x = 10\n",
        "y = 20\n",
        "\n",
        "x == y"
      ],
      "execution_count": null,
      "outputs": [
        {
          "output_type": "execute_result",
          "data": {
            "text/plain": [
              "False"
            ]
          },
          "metadata": {
            "tags": []
          },
          "execution_count": 38
        }
      ]
    },
    {
      "cell_type": "markdown",
      "metadata": {
        "id": "bqKx-BYAZFaC"
      },
      "source": [
        "Pode-se verificar se uma variável é menor, maior ou igual a outra. O retorno é do tipo booleano."
      ]
    },
    {
      "cell_type": "code",
      "metadata": {
        "colab": {
          "base_uri": "https://localhost:8080/"
        },
        "id": "i0Oi6CNtZESu",
        "outputId": "6e3b06b1-0e54-42f4-f424-fa16fe05c4f3"
      },
      "source": [
        "x = 10\n",
        "y = 20\n",
        "\n",
        "x < y"
      ],
      "execution_count": null,
      "outputs": [
        {
          "output_type": "execute_result",
          "data": {
            "text/plain": [
              "True"
            ]
          },
          "metadata": {
            "tags": []
          },
          "execution_count": 45
        }
      ]
    },
    {
      "cell_type": "code",
      "metadata": {
        "colab": {
          "base_uri": "https://localhost:8080/"
        },
        "id": "sxQPhl3DZf4o",
        "outputId": "9441b021-17b9-4e22-b7bd-26f4edde2222"
      },
      "source": [
        "x = 7\n",
        "y = 13\n",
        "\n",
        "x > y"
      ],
      "execution_count": null,
      "outputs": [
        {
          "output_type": "execute_result",
          "data": {
            "text/plain": [
              "False"
            ]
          },
          "metadata": {
            "tags": []
          },
          "execution_count": 46
        }
      ]
    },
    {
      "cell_type": "code",
      "metadata": {
        "colab": {
          "base_uri": "https://localhost:8080/"
        },
        "id": "W_HQZZHnZEYb",
        "outputId": "979c6b84-2e62-4df4-9b74-6b745a13b4cb"
      },
      "source": [
        "x = 8\n",
        "y = 15\n",
        "\n",
        "x >= y"
      ],
      "execution_count": null,
      "outputs": [
        {
          "output_type": "execute_result",
          "data": {
            "text/plain": [
              "False"
            ]
          },
          "metadata": {
            "tags": []
          },
          "execution_count": 48
        }
      ]
    },
    {
      "cell_type": "code",
      "metadata": {
        "colab": {
          "base_uri": "https://localhost:8080/"
        },
        "id": "6aq6kfMeZygw",
        "outputId": "e1b1a2b9-4cdf-4210-ef16-d5b12745c10c"
      },
      "source": [
        "x = 10\n",
        "y = 10\n",
        "\n",
        "x <= y"
      ],
      "execution_count": null,
      "outputs": [
        {
          "output_type": "execute_result",
          "data": {
            "text/plain": [
              "True"
            ]
          },
          "metadata": {
            "tags": []
          },
          "execution_count": 49
        }
      ]
    },
    {
      "cell_type": "markdown",
      "metadata": {
        "id": "b5GwXl-LZ7xW"
      },
      "source": [
        "Há como verificar se duas variáveis são diferentes."
      ]
    },
    {
      "cell_type": "code",
      "metadata": {
        "colab": {
          "base_uri": "https://localhost:8080/"
        },
        "id": "UTGLuyzkZEdj",
        "outputId": "c24b42a9-11c5-4b15-9cea-b9e721f4cc1c"
      },
      "source": [
        "x = 11\n",
        "y = 22\n",
        "\n",
        "x != y"
      ],
      "execution_count": null,
      "outputs": [
        {
          "output_type": "execute_result",
          "data": {
            "text/plain": [
              "True"
            ]
          },
          "metadata": {
            "tags": []
          },
          "execution_count": 50
        }
      ]
    },
    {
      "cell_type": "markdown",
      "metadata": {
        "id": "Td_wGduPbEdV"
      },
      "source": [
        "#### 1.8 Operadores lógicos.\n"
      ]
    },
    {
      "cell_type": "markdown",
      "metadata": {
        "id": "Oq7mzi7ubPie"
      },
      "source": [
        "O operador \"or\" é utilizado para verificar se uma das afirmativas é verdadeira."
      ]
    },
    {
      "cell_type": "code",
      "metadata": {
        "colab": {
          "base_uri": "https://localhost:8080/"
        },
        "id": "sKq2B-mEbEEd",
        "outputId": "79d645f6-fa07-4234-aeaa-a6272b70b05c"
      },
      "source": [
        "x = 10\n",
        "y = 30\n",
        "\n",
        "x != 10 or y >= 30"
      ],
      "execution_count": null,
      "outputs": [
        {
          "output_type": "execute_result",
          "data": {
            "text/plain": [
              "True"
            ]
          },
          "metadata": {
            "tags": []
          },
          "execution_count": 51
        }
      ]
    },
    {
      "cell_type": "markdown",
      "metadata": {
        "id": "W3JRCrbocTN5"
      },
      "source": [
        "O operador \"and\" é utilizado para verficar se ambas afirmativas são verdadeiras."
      ]
    },
    {
      "cell_type": "code",
      "metadata": {
        "colab": {
          "base_uri": "https://localhost:8080/"
        },
        "id": "7_qmlwf-brTt",
        "outputId": "947c4957-ede9-4c23-ebd9-51a3559354fa"
      },
      "source": [
        "x = 15.4 \n",
        "y = 19.4\n",
        "\n",
        "x <= 15.4 and y == 20"
      ],
      "execution_count": null,
      "outputs": [
        {
          "output_type": "execute_result",
          "data": {
            "text/plain": [
              "False"
            ]
          },
          "metadata": {
            "tags": []
          },
          "execution_count": 52
        }
      ]
    },
    {
      "cell_type": "markdown",
      "metadata": {
        "id": "77ZRW3XWc12C"
      },
      "source": [
        "O operador \"not\" é utilizado para negar afirmativas.\n"
      ]
    },
    {
      "cell_type": "code",
      "metadata": {
        "colab": {
          "base_uri": "https://localhost:8080/"
        },
        "id": "DwmcPREsc07L",
        "outputId": "00674ad8-6d13-4853-c05d-01939c07a4a3"
      },
      "source": [
        "x = 154.34\n",
        "y = 200\n",
        "w = 71.23\n",
        "\n",
        "not(x == 154 and y >= 199  or w != 71.24 )"
      ],
      "execution_count": null,
      "outputs": [
        {
          "output_type": "execute_result",
          "data": {
            "text/plain": [
              "False"
            ]
          },
          "metadata": {
            "tags": []
          },
          "execution_count": 53
        }
      ]
    },
    {
      "cell_type": "markdown",
      "metadata": {
        "id": "RK-FEH1ceE9Q"
      },
      "source": [
        "#### 1.9 Operadores de identidade.\n"
      ]
    },
    {
      "cell_type": "markdown",
      "metadata": {
        "id": "7s714j2-eIDW"
      },
      "source": [
        "O operador \"is\" é utilizado para verificar se uma variável é identica a outra."
      ]
    },
    {
      "cell_type": "code",
      "metadata": {
        "colab": {
          "base_uri": "https://localhost:8080/"
        },
        "id": "VfFTobBpeEbc",
        "outputId": "b83b343b-68a6-461e-b311-d43a7945b1d7"
      },
      "source": [
        "x = 19\n",
        "y = 19\n",
        "z = y\n",
        "\n",
        "x is z"
      ],
      "execution_count": null,
      "outputs": [
        {
          "output_type": "execute_result",
          "data": {
            "text/plain": [
              "True"
            ]
          },
          "metadata": {
            "tags": []
          },
          "execution_count": 5
        }
      ]
    },
    {
      "cell_type": "markdown",
      "metadata": {
        "id": "o0vcyeAUetqE"
      },
      "source": [
        "O operador \"is not\" é utilizado para verificar a variável é diferente da outra"
      ]
    },
    {
      "cell_type": "code",
      "metadata": {
        "colab": {
          "base_uri": "https://localhost:8080/"
        },
        "id": "OfHZjt_xed51",
        "outputId": "eb86d80a-01e9-4834-f64c-7b59dc83be76"
      },
      "source": [
        "x = 19\n",
        "y = 19\n",
        "z = y\n",
        "x is not z"
      ],
      "execution_count": null,
      "outputs": [
        {
          "output_type": "execute_result",
          "data": {
            "text/plain": [
              "False"
            ]
          },
          "metadata": {
            "tags": []
          },
          "execution_count": 6
        }
      ]
    },
    {
      "cell_type": "markdown",
      "metadata": {
        "id": "ZqgvigHWDBLi"
      },
      "source": [
        "#### 1.9 Funções de conversão numérica.\n"
      ]
    },
    {
      "cell_type": "markdown",
      "metadata": {
        "id": "ugx74a7eGzEI"
      },
      "source": [
        "##### O Python possibilita a conversão de um tipo númerico para outro."
      ]
    },
    {
      "cell_type": "markdown",
      "metadata": {
        "id": "TIpzY42rJrDu"
      },
      "source": [
        "##### Inteiro para decimal\n"
      ]
    },
    {
      "cell_type": "code",
      "metadata": {
        "colab": {
          "base_uri": "https://localhost:8080/"
        },
        "id": "kykcViCuDAO3",
        "outputId": "fea0a138-261a-4c52-db0a-ad589d55b537"
      },
      "source": [
        "x = 10\n",
        "float(x)"
      ],
      "execution_count": null,
      "outputs": [
        {
          "output_type": "execute_result",
          "data": {
            "text/plain": [
              "10.0"
            ]
          },
          "metadata": {
            "tags": []
          },
          "execution_count": 2
        }
      ]
    },
    {
      "cell_type": "markdown",
      "metadata": {
        "id": "TKSKyD14JvOd"
      },
      "source": [
        "##### Decimal para inteiro"
      ]
    },
    {
      "cell_type": "code",
      "metadata": {
        "colab": {
          "base_uri": "https://localhost:8080/"
        },
        "id": "l2em6b7aI8Su",
        "outputId": "2ba15415-78a0-4f75-d866-ac7f524d635e"
      },
      "source": [
        "x = 1.32\n",
        "int(x)"
      ],
      "execution_count": null,
      "outputs": [
        {
          "output_type": "execute_result",
          "data": {
            "text/plain": [
              "1"
            ]
          },
          "metadata": {
            "tags": []
          },
          "execution_count": 3
        }
      ]
    },
    {
      "cell_type": "markdown",
      "metadata": {
        "id": "KfynmAWPJzHo"
      },
      "source": [
        "##### Decimal para complexo"
      ]
    },
    {
      "cell_type": "code",
      "metadata": {
        "colab": {
          "base_uri": "https://localhost:8080/"
        },
        "id": "X8fQyetNJL8b",
        "outputId": "079a2262-66f0-45ba-80f8-3ade28e64ab0"
      },
      "source": [
        "x = 1.5\n",
        "complex(x)"
      ],
      "execution_count": null,
      "outputs": [
        {
          "output_type": "execute_result",
          "data": {
            "text/plain": [
              "(1.5+0j)"
            ]
          },
          "metadata": {
            "tags": []
          },
          "execution_count": 4
        }
      ]
    },
    {
      "cell_type": "markdown",
      "metadata": {
        "id": "lavOh12oNiPR"
      },
      "source": [
        "##### A função complex() pode receber dois argumentos. O primeiro é obrigatório, que é o número a ser somado a parte imaginária. O segundo é o número imaginário. Se o segundo argumento for deixado em branco, por padrão, retorna 0. "
      ]
    },
    {
      "cell_type": "code",
      "metadata": {
        "colab": {
          "base_uri": "https://localhost:8080/"
        },
        "id": "AHnF27blNhNt",
        "outputId": "ae89cf2d-1b32-4083-96ff-bec028cdd93e"
      },
      "source": [
        "x = 1.5\n",
        "y = 2\n",
        "\n",
        "complex(x,y)"
      ],
      "execution_count": null,
      "outputs": [
        {
          "output_type": "execute_result",
          "data": {
            "text/plain": [
              "(1.5+2j)"
            ]
          },
          "metadata": {
            "tags": []
          },
          "execution_count": 16
        }
      ]
    },
    {
      "cell_type": "markdown",
      "metadata": {
        "id": "TIHAukDpKGt4"
      },
      "source": [
        "##### Inteiro para hexagonal"
      ]
    },
    {
      "cell_type": "code",
      "metadata": {
        "colab": {
          "base_uri": "https://localhost:8080/",
          "height": 34
        },
        "id": "Lfkkau8PJ4FG",
        "outputId": "1635ed98-fda1-4f5c-95c2-cb04d90389a7"
      },
      "source": [
        "x = 22313\n",
        "hex(x)"
      ],
      "execution_count": null,
      "outputs": [
        {
          "output_type": "execute_result",
          "data": {
            "application/vnd.google.colaboratory.intrinsic+json": {
              "type": "string"
            },
            "text/plain": [
              "'0x5729'"
            ]
          },
          "metadata": {
            "tags": []
          },
          "execution_count": 10
        }
      ]
    },
    {
      "cell_type": "markdown",
      "metadata": {
        "id": "x06M9eUVKojL"
      },
      "source": [
        "##### Decimal para hexagonal"
      ]
    },
    {
      "cell_type": "code",
      "metadata": {
        "colab": {
          "base_uri": "https://localhost:8080/",
          "height": 34
        },
        "id": "rQCve8rcKnwq",
        "outputId": "8ff8d395-f0b9-433f-b954-c63a17bb61be"
      },
      "source": [
        "x = 22.313\n",
        "float.hex(x)"
      ],
      "execution_count": null,
      "outputs": [
        {
          "output_type": "execute_result",
          "data": {
            "application/vnd.google.colaboratory.intrinsic+json": {
              "type": "string"
            },
            "text/plain": [
              "'0x1.65020c49ba5e3p+4'"
            ]
          },
          "metadata": {
            "tags": []
          },
          "execution_count": 11
        }
      ]
    },
    {
      "cell_type": "markdown",
      "metadata": {
        "id": "_cHnEs_zLebo"
      },
      "source": [
        "##### Inteiro para octal"
      ]
    },
    {
      "cell_type": "code",
      "metadata": {
        "colab": {
          "base_uri": "https://localhost:8080/",
          "height": 34
        },
        "id": "cd5yWoI4LQQt",
        "outputId": "9203eb9a-c9a5-4a7f-a063-31b511f6561a"
      },
      "source": [
        "x = 12\n",
        "oct(x)"
      ],
      "execution_count": null,
      "outputs": [
        {
          "output_type": "execute_result",
          "data": {
            "application/vnd.google.colaboratory.intrinsic+json": {
              "type": "string"
            },
            "text/plain": [
              "'0o14'"
            ]
          },
          "metadata": {
            "tags": []
          },
          "execution_count": 12
        }
      ]
    },
    {
      "cell_type": "markdown",
      "metadata": {
        "id": "iKA7IuwqLlwN"
      },
      "source": [
        "##### Inteiro para binário"
      ]
    },
    {
      "cell_type": "code",
      "metadata": {
        "colab": {
          "base_uri": "https://localhost:8080/",
          "height": 34
        },
        "id": "Pj95mhBKLQW5",
        "outputId": "efd84d45-ee08-4f70-8c3a-61c86e8cf955"
      },
      "source": [
        "x = 12\n",
        "bin(x)"
      ],
      "execution_count": null,
      "outputs": [
        {
          "output_type": "execute_result",
          "data": {
            "application/vnd.google.colaboratory.intrinsic+json": {
              "type": "string"
            },
            "text/plain": [
              "'0b1100'"
            ]
          },
          "metadata": {
            "tags": []
          },
          "execution_count": 15
        }
      ]
    },
    {
      "cell_type": "markdown",
      "metadata": {
        "id": "LcvYlcqqhO2f"
      },
      "source": [
        "O Python permite que se transforme uma variável numérica em string. As strings serão tratadas posteriormente em outro nootebok"
      ]
    },
    {
      "cell_type": "code",
      "metadata": {
        "id": "Z0CmqjC7LQcB",
        "colab": {
          "base_uri": "https://localhost:8080/",
          "height": 34
        },
        "outputId": "3ca5cdaf-e455-45c9-f83c-a5762bbad680"
      },
      "source": [
        "x = 1.323\n",
        "str(x)"
      ],
      "execution_count": 1,
      "outputs": [
        {
          "output_type": "execute_result",
          "data": {
            "application/vnd.google.colaboratory.intrinsic+json": {
              "type": "string"
            },
            "text/plain": [
              "'1.323'"
            ]
          },
          "metadata": {
            "tags": []
          },
          "execution_count": 1
        }
      ]
    }
  ]
}