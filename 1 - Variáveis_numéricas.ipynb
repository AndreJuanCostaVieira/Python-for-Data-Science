{
  "nbformat": 4,
  "nbformat_minor": 0,
  "metadata": {
    "kernelspec": {
      "display_name": "Python 3",
      "language": "python",
      "name": "python3"
    },
    "language_info": {
      "codemirror_mode": {
        "name": "ipython",
        "version": 3
      },
      "file_extension": ".py",
      "mimetype": "text/x-python",
      "name": "python",
      "nbconvert_exporter": "python",
      "pygments_lexer": "ipython3",
      "version": "3.7.3"
    },
    "colab": {
      "name": "1.1.1.1-Variáveis numéricas.ipynb",
      "provenance": [],
      "collapsed_sections": []
    }
  },
  "cells": [
    {
      "cell_type": "markdown",
      "metadata": {
        "id": "izY6YRELguwx"
      },
      "source": [
        "## 1) Variáveis\n",
        "#### 1.1 Numéricas\n",
        "##### Uma variável numérica pode ser:\n",
        "* Int (Inteiro)\n",
        "* Float (Possui casas decimais)\n",
        "* Complex (Complexo) "
      ]
    },
    {
      "cell_type": "markdown",
      "metadata": {
        "id": "r0FwjuKfmqfV"
      },
      "source": [
        "#### 1.1.1 Números inteiros.\n"
      ]
    },
    {
      "cell_type": "markdown",
      "metadata": {
        "id": "bSPIeSRCnKGJ"
      },
      "source": [
        "###### Pode-se atribuir números inteiros a uma varíavel. O sinal '=' atribui um valor a variável. "
      ]
    },
    {
      "cell_type": "code",
      "metadata": {
        "colab": {
          "base_uri": "https://localhost:8080/"
        },
        "id": "jYP7cGKVS417",
        "outputId": "ce1d0509-5890-4b2e-9d7f-aeaa42b1cef3"
      },
      "source": [
        "x = 20 \n",
        "\n",
        "print(x)"
      ],
      "execution_count": 6,
      "outputs": [
        {
          "output_type": "execute_result",
          "data": {
            "text/plain": [
              "20"
            ]
          },
          "metadata": {
            "tags": []
          },
          "execution_count": 6
        }
      ]
    },
    {
      "cell_type": "markdown",
      "metadata": {
        "id": "KAALbLMto_BT"
      },
      "source": [
        "Com a função type(), pode-se verificar o tipo da variável em questão."
      ]
    },
    {
      "cell_type": "code",
      "metadata": {
        "colab": {
          "base_uri": "https://localhost:8080/"
        },
        "id": "AunSBiCyS419",
        "outputId": "9664e7fd-f248-4e6b-e978-5057c72d42ff"
      },
      "source": [
        "type(x)"
      ],
      "execution_count": 16,
      "outputs": [
        {
          "output_type": "execute_result",
          "data": {
            "text/plain": [
              "int"
            ]
          },
          "metadata": {
            "tags": []
          },
          "execution_count": 16
        }
      ]
    },
    {
      "cell_type": "markdown",
      "metadata": {
        "id": "cDajj0N8reW-"
      },
      "source": [
        "###### É possível atribuir números inteiros a múltiplas variáveis numa só linha."
      ]
    },
    {
      "cell_type": "code",
      "metadata": {
        "colab": {
          "base_uri": "https://localhost:8080/"
        },
        "id": "aPGEhVBOS41_",
        "outputId": "d5f58b53-5620-4fbf-d771-6bb2f8637482"
      },
      "source": [
        "y, z = 10, -20\n",
        "\n",
        "print(y,z)"
      ],
      "execution_count": 17,
      "outputs": [
        {
          "output_type": "stream",
          "text": [
            "10 -20\n"
          ],
          "name": "stdout"
        }
      ]
    },
    {
      "cell_type": "markdown",
      "metadata": {
        "id": "OykVrnHTjYo0"
      },
      "source": [
        "##### Se mais de um valor for atribuido a mesma variável a saída é uma tupla. A tupla será tratada mais adiante em outros notebooks."
      ]
    },
    {
      "cell_type": "code",
      "metadata": {
        "colab": {
          "base_uri": "https://localhost:8080/"
        },
        "id": "278gWY-_jNim",
        "outputId": "986ebfd0-7cc5-48fa-fd31-39331ede4129"
      },
      "source": [
        "w = 1,5 \n",
        "\n",
        "print(w)\n",
        "type(w)"
      ],
      "execution_count": 3,
      "outputs": [
        {
          "output_type": "stream",
          "text": [
            "(1, 5)\n"
          ],
          "name": "stdout"
        },
        {
          "output_type": "execute_result",
          "data": {
            "text/plain": [
              "tuple"
            ]
          },
          "metadata": {
            "tags": []
          },
          "execution_count": 3
        }
      ]
    },
    {
      "cell_type": "markdown",
      "metadata": {
        "id": "9XnWVqQR8v-W"
      },
      "source": [
        "###### Existem operadores para realizar calculos aritméticos. O operador \"+\" representa uma soma e \"-\" representa uma subtração."
      ]
    },
    {
      "cell_type": "code",
      "metadata": {
        "colab": {
          "base_uri": "https://localhost:8080/"
        },
        "id": "wqqLmQa98YNu",
        "outputId": "91b92cc9-1674-483a-aba2-7cb8cbfda7f5"
      },
      "source": [
        "x = 20\n",
        "y = 10\n",
        "z = -20\n",
        "\n",
        "print(y - z + x)"
      ],
      "execution_count": 20,
      "outputs": [
        {
          "output_type": "stream",
          "text": [
            "50\n"
          ],
          "name": "stdout"
        }
      ]
    },
    {
      "cell_type": "markdown",
      "metadata": {
        "id": "erO1UTjS_y96"
      },
      "source": [
        "###### O operador \"*\" representa uma multiplicação e \"/\" representa uma divisão. "
      ]
    },
    {
      "cell_type": "code",
      "metadata": {
        "colab": {
          "base_uri": "https://localhost:8080/"
        },
        "id": "HnvnelpE_aeg",
        "outputId": "f12d9ba9-7727-460c-cfbc-f7e7c80910e8"
      },
      "source": [
        "x = 20\n",
        "y = 10\n",
        "z = -15\n",
        "\n",
        "print((y/x)*z)"
      ],
      "execution_count": 28,
      "outputs": [
        {
          "output_type": "stream",
          "text": [
            "-7.5\n"
          ],
          "name": "stdout"
        }
      ]
    },
    {
      "cell_type": "markdown",
      "metadata": {
        "id": "4Io0dI2C1mtr"
      },
      "source": [
        "##### O operador \"%\" retorna o resto da divisão."
      ]
    },
    {
      "cell_type": "code",
      "metadata": {
        "colab": {
          "base_uri": "https://localhost:8080/"
        },
        "id": "kwKGUDaj1MZm",
        "outputId": "56aadbd8-dc68-4fb5-a111-e0d1a3439074"
      },
      "source": [
        "x = 20\n",
        "y = 10\n",
        "z = 5\n",
        "w = 2\n",
        "print(x%y)\n",
        "print(z%w)"
      ],
      "execution_count": 27,
      "outputs": [
        {
          "output_type": "stream",
          "text": [
            "0\n",
            "1\n"
          ],
          "name": "stdout"
        }
      ]
    },
    {
      "cell_type": "markdown",
      "metadata": {
        "id": "nnx9Ft7F74NV"
      },
      "source": [
        "##### O operador \"//\" é a divisão de piso. A divisão de piso não retorna números decimais, somente inteiro.\n"
      ]
    },
    {
      "cell_type": "code",
      "metadata": {
        "colab": {
          "base_uri": "https://localhost:8080/"
        },
        "id": "kST0Kgbc7pLi",
        "outputId": "a347b5e3-6521-44cf-e2da-e5ad0c1b26a1"
      },
      "source": [
        "x = 20\n",
        "y = 11\n",
        "\n",
        "print(x/y)\n",
        "print(x//y)"
      ],
      "execution_count": 33,
      "outputs": [
        {
          "output_type": "stream",
          "text": [
            "1.8181818181818181\n",
            "1\n"
          ],
          "name": "stdout"
        }
      ]
    },
    {
      "cell_type": "markdown",
      "metadata": {
        "id": "2FxJSk9Dhx_4"
      },
      "source": [
        "##### Outros operadores aritiméticos também podem ser usados com números inteiros e serão apresentados a seguir."
      ]
    },
    {
      "cell_type": "markdown",
      "metadata": {
        "id": "dzQiQ5mh7WU2"
      },
      "source": [
        "#### 1.1.1 Números decimais."
      ]
    },
    {
      "cell_type": "markdown",
      "metadata": {
        "id": "OwamRtIChRRr"
      },
      "source": [
        "Os números decimais são chamados de float."
      ]
    },
    {
      "cell_type": "code",
      "metadata": {
        "colab": {
          "base_uri": "https://localhost:8080/"
        },
        "id": "dXxnHdEhS42A",
        "outputId": "30af2ea2-7ac5-4b75-8981-fc2229b2ac1e"
      },
      "source": [
        "x = 1.5\n",
        "\n",
        "print(x)\n",
        "type(x)"
      ],
      "execution_count": 5,
      "outputs": [
        {
          "output_type": "stream",
          "text": [
            "1.5\n"
          ],
          "name": "stdout"
        },
        {
          "output_type": "execute_result",
          "data": {
            "text/plain": [
              "float"
            ]
          },
          "metadata": {
            "tags": []
          },
          "execution_count": 5
        }
      ]
    },
    {
      "cell_type": "markdown",
      "metadata": {
        "id": "r8lKx7-mlyFM"
      },
      "source": [
        "##### O operador '**' representa um expoente."
      ]
    },
    {
      "cell_type": "code",
      "metadata": {
        "colab": {
          "base_uri": "https://localhost:8080/"
        },
        "id": "disFj27jWkgc",
        "outputId": "207e3350-c81f-4063-9c14-78f8b8f3e35b"
      },
      "source": [
        "x = 1.5\n",
        "y = 2\n",
        "\n",
        "print(x**y)"
      ],
      "execution_count": 6,
      "outputs": [
        {
          "output_type": "stream",
          "text": [
            "2.25\n"
          ],
          "name": "stdout"
        }
      ]
    },
    {
      "cell_type": "markdown",
      "metadata": {
        "id": "8F7CrC5_oTWZ"
      },
      "source": [
        "##### Caso queira realizar a raiz quadrada de um número, utilize o mesmo operador acima com o inverso do número do expoente."
      ]
    },
    {
      "cell_type": "code",
      "metadata": {
        "colab": {
          "base_uri": "https://localhost:8080/"
        },
        "id": "8GhNat3JoSqU",
        "outputId": "b01f4d59-c32f-44c0-e26c-050fb7c40d26"
      },
      "source": [
        "x = 1.5\n",
        "y = 2\n",
        "\n",
        "print(x**(1/y))"
      ],
      "execution_count": 7,
      "outputs": [
        {
          "output_type": "stream",
          "text": [
            "1.224744871391589\n"
          ],
          "name": "stdout"
        }
      ]
    },
    {
      "cell_type": "markdown",
      "metadata": {
        "id": "R6nnfbJ3piDB"
      },
      "source": [
        "##### Números em notação ciêntifica também são float"
      ]
    },
    {
      "cell_type": "code",
      "metadata": {
        "colab": {
          "base_uri": "https://localhost:8080/"
        },
        "id": "xvL7e2jDphMC",
        "outputId": "3f278adf-a0b9-434c-dd9d-f8fc6ff83d2e"
      },
      "source": [
        "x = 1.2332e10\n",
        "y = 2.1221e10\n",
        "\n",
        "print(x+y)\n",
        "type(x)"
      ],
      "execution_count": 34,
      "outputs": [
        {
          "output_type": "stream",
          "text": [
            "33553000000.0\n"
          ],
          "name": "stdout"
        },
        {
          "output_type": "execute_result",
          "data": {
            "text/plain": [
              "float"
            ]
          },
          "metadata": {
            "tags": []
          },
          "execution_count": 34
        }
      ]
    },
    {
      "cell_type": "markdown",
      "metadata": {
        "id": "jj4myhS2xKBz"
      },
      "source": [
        "##### Se não houver formatação na saída, o Python ira retornar o número por extenso. Para recebermos o número em notação ciêntifica, utiliza-se formatação da variãvel. A primeira parte (\"{:.3e}\") formatará o número. O número 3 representa a quantidade de números decimais que serão mostrados. Formatações serão devidamente explicadas em outros notebooks.\n"
      ]
    },
    {
      "cell_type": "code",
      "metadata": {
        "colab": {
          "base_uri": "https://localhost:8080/"
        },
        "id": "Vl7zQlV0vdYr",
        "outputId": "2f4b2eb4-0938-4d18-d7ce-ece40814ef70"
      },
      "source": [
        "x = 1.2332e10\n",
        "y = 2.1221e10\n",
        "\n",
        "print(\"{:.1e}\".format(x+y))\n",
        "print(\"{:.2e}\".format(x+y))\n",
        "print(\"{:.3e}\".format(x+y))\n",
        "print(\"{:.4e}\".format(x+y))"
      ],
      "execution_count": 20,
      "outputs": [
        {
          "output_type": "stream",
          "text": [
            "3.4e+10\n",
            "3.36e+10\n",
            "3.355e+10\n",
            "3.3553e+10\n"
          ],
          "name": "stdout"
        }
      ]
    },
    {
      "cell_type": "markdown",
      "metadata": {
        "id": "GozKRj8RzXUe"
      },
      "source": [
        "#### 1.1.2 Números complexos."
      ]
    },
    {
      "cell_type": "markdown",
      "metadata": {
        "id": "wMzuB_tx2Col"
      },
      "source": [
        "##### Os números complexos são chamados de complex."
      ]
    },
    {
      "cell_type": "code",
      "metadata": {
        "colab": {
          "base_uri": "https://localhost:8080/"
        },
        "id": "aVrL39EkzWoU",
        "outputId": "49cc635a-8e60-43e0-e6a8-a5468b261194"
      },
      "source": [
        "x = 1.23 + 5j\n",
        "y = 2.42 + 2.5J\n",
        "\n",
        "print(x+y)\n",
        "print(x**y)\n",
        "type(x)"
      ],
      "execution_count": 35,
      "outputs": [
        {
          "output_type": "stream",
          "text": [
            "(3.65+7.5j)\n",
            "(0.975902527136128+1.6304745716815339j)\n"
          ],
          "name": "stdout"
        },
        {
          "output_type": "execute_result",
          "data": {
            "text/plain": [
              "complex"
            ]
          },
          "metadata": {
            "tags": []
          },
          "execution_count": 35
        }
      ]
    },
    {
      "cell_type": "code",
      "metadata": {
        "colab": {
          "base_uri": "https://localhost:8080/"
        },
        "id": "OPgCXZkE6ehG",
        "outputId": "e7f486ba-c493-43d1-ad3e-e697bdaec45b"
      },
      "source": [
        "x = 1.23 + 5j\n",
        "y = 2.42 + 2.5J\n",
        "\n",
        "print(x/y)\n",
        "print(x*y)"
      ],
      "execution_count": 31,
      "outputs": [
        {
          "output_type": "stream",
          "text": [
            "(1.2783816824159124+0.7454734685786031j)\n",
            "(-9.5234+15.175j)\n"
          ],
          "name": "stdout"
        }
      ]
    },
    {
      "cell_type": "markdown",
      "metadata": {
        "id": "VywCKQCnS42B"
      },
      "source": [
        "## Atribuição de variáveis\n",
        "A atribuição de variáveis segue `name = object`, onde um único sinal de igual` = `é um * operador de atribuição *"
      ]
    },
    {
      "cell_type": "code",
      "metadata": {
        "id": "hr5u0RulS42C"
      },
      "source": [
        "a = 5"
      ],
      "execution_count": null,
      "outputs": []
    },
    {
      "cell_type": "code",
      "metadata": {
        "id": "jJUi1gmDS42C",
        "outputId": "2de4e14d-63c0-4256-a261-0f7545bd35e4"
      },
      "source": [
        "a"
      ],
      "execution_count": null,
      "outputs": [
        {
          "output_type": "execute_result",
          "data": {
            "text/plain": [
              "5"
            ]
          },
          "metadata": {
            "tags": []
          },
          "execution_count": 6
        }
      ]
    },
    {
      "cell_type": "markdown",
      "metadata": {
        "id": "P3eJAVJ6S42C"
      },
      "source": [
        "Aqui atribuímos o objeto inteiro `5` ao nome da variável `a`. Vamos atribuir `a` a outra coisa:"
      ]
    },
    {
      "cell_type": "code",
      "metadata": {
        "id": "7nG0QLgtS42D"
      },
      "source": [
        "a = 10"
      ],
      "execution_count": null,
      "outputs": []
    },
    {
      "cell_type": "code",
      "metadata": {
        "id": "20lqmCkUS42D",
        "outputId": "8e99d800-099c-424b-ef09-921d95a2fe56"
      },
      "source": [
        "a"
      ],
      "execution_count": null,
      "outputs": [
        {
          "output_type": "execute_result",
          "data": {
            "text/plain": [
              "10"
            ]
          },
          "metadata": {
            "tags": []
          },
          "execution_count": 8
        }
      ]
    },
    {
      "cell_type": "markdown",
      "metadata": {
        "id": "FM1TQLkLS42E"
      },
      "source": [
        "Agora você pode usar `a` no lugar do número `10`:"
      ]
    },
    {
      "cell_type": "code",
      "metadata": {
        "id": "Pzx6_eLgS42E",
        "outputId": "6421988d-1817-4fe0-89e2-c6579460e7ce"
      },
      "source": [
        "a + a"
      ],
      "execution_count": null,
      "outputs": [
        {
          "output_type": "execute_result",
          "data": {
            "text/plain": [
              "20"
            ]
          },
          "metadata": {
            "tags": []
          },
          "execution_count": 9
        }
      ]
    },
    {
      "cell_type": "markdown",
      "metadata": {
        "id": "OgqmbjAUS42E"
      },
      "source": [
        "## Reatribuindo variáveis\n",
        "O Python permite reatribuir variáveis com uma referência ao mesmo objeto."
      ]
    },
    {
      "cell_type": "code",
      "metadata": {
        "id": "OjRVKWFlS42F"
      },
      "source": [
        "a = a + 10"
      ],
      "execution_count": null,
      "outputs": []
    },
    {
      "cell_type": "code",
      "metadata": {
        "id": "i9LAK97gS42F",
        "outputId": "7818d145-5b31-4874-eb3e-ef5972708d3f"
      },
      "source": [
        "a"
      ],
      "execution_count": null,
      "outputs": [
        {
          "output_type": "execute_result",
          "data": {
            "text/plain": [
              "20"
            ]
          },
          "metadata": {
            "tags": []
          },
          "execution_count": 11
        }
      ]
    },
    {
      "cell_type": "markdown",
      "metadata": {
        "id": "Y6DJeFDTS42F"
      },
      "source": [
        "Na verdade, existe um atalho para isso. O Python permite adicionar, subtrair, multiplicar e dividir números com a reatribuição usando `+=`, `-=`, `*=` e `/=`."
      ]
    },
    {
      "cell_type": "code",
      "metadata": {
        "id": "aPvyo2EWS42G"
      },
      "source": [
        "a += 10"
      ],
      "execution_count": null,
      "outputs": []
    },
    {
      "cell_type": "code",
      "metadata": {
        "id": "JvgY864OS42G",
        "outputId": "ae2af9bb-c13e-470e-819d-2d0cea6c294c"
      },
      "source": [
        "a"
      ],
      "execution_count": null,
      "outputs": [
        {
          "output_type": "execute_result",
          "data": {
            "text/plain": [
              "30"
            ]
          },
          "metadata": {
            "tags": []
          },
          "execution_count": 13
        }
      ]
    },
    {
      "cell_type": "code",
      "metadata": {
        "id": "oNOed0kCS42G"
      },
      "source": [
        "a *= 2"
      ],
      "execution_count": null,
      "outputs": []
    },
    {
      "cell_type": "code",
      "metadata": {
        "id": "CU7Gj4nvS42H",
        "outputId": "bab26637-cc28-4008-b9aa-81af69db2bbf"
      },
      "source": [
        "a"
      ],
      "execution_count": null,
      "outputs": [
        {
          "output_type": "execute_result",
          "data": {
            "text/plain": [
              "60"
            ]
          },
          "metadata": {
            "tags": []
          },
          "execution_count": 15
        }
      ]
    },
    {
      "cell_type": "markdown",
      "metadata": {
        "id": "395t2yG9S42H"
      },
      "source": [
        "## Determinando tipos de variáveis com `type()`\n",
        "Você pode verificar que tipo de objeto é atribuído a uma variável usando a função interna `type()` do Python. Os tipos de dados comuns incluem:\n",
        "* **int** (para inteiro)\n",
        "* **float**\n",
        "* **str** (for string)\n",
        "* **list**\n",
        "* **tuple**\n",
        "* **dict** (para dicionário)\n",
        "* **set**\n",
        "* **bool** (para boolean True/False)"
      ]
    },
    {
      "cell_type": "code",
      "metadata": {
        "id": "Cq0-G0L8S42I",
        "outputId": "281463f2-e446-4616-b57a-39b83bfae448"
      },
      "source": [
        "type(a)"
      ],
      "execution_count": null,
      "outputs": [
        {
          "output_type": "execute_result",
          "data": {
            "text/plain": [
              "int"
            ]
          },
          "metadata": {
            "tags": []
          },
          "execution_count": 16
        }
      ]
    },
    {
      "cell_type": "code",
      "metadata": {
        "id": "EHc3xjcRS42I"
      },
      "source": [
        "a = (1,2)"
      ],
      "execution_count": null,
      "outputs": []
    },
    {
      "cell_type": "code",
      "metadata": {
        "id": "ojp1_MqtS42I",
        "outputId": "bc69e924-f70f-4e13-981b-b31d9374beda"
      },
      "source": [
        "type(a)"
      ],
      "execution_count": null,
      "outputs": [
        {
          "output_type": "execute_result",
          "data": {
            "text/plain": [
              "tuple"
            ]
          },
          "metadata": {
            "tags": []
          },
          "execution_count": 18
        }
      ]
    },
    {
      "cell_type": "markdown",
      "metadata": {
        "id": "vRtWMiMtS42J"
      },
      "source": [
        "## Exercício\n",
        "Isso mostra como as variáveis tornam os cálculos mais legíveis e fáceis de seguir."
      ]
    },
    {
      "cell_type": "code",
      "metadata": {
        "id": "b9rlZLSaS42J"
      },
      "source": [
        "salario = 100\n",
        "\n",
        "impostos = 0.1\n",
        "\n",
        "taxas = salario*impostos"
      ],
      "execution_count": null,
      "outputs": []
    },
    {
      "cell_type": "code",
      "metadata": {
        "id": "6MiIp7ttS42J",
        "outputId": "9f64d06d-067f-4be6-add6-488c25539736"
      },
      "source": [
        "taxas"
      ],
      "execution_count": null,
      "outputs": [
        {
          "output_type": "execute_result",
          "data": {
            "text/plain": [
              "10.0"
            ]
          },
          "metadata": {
            "tags": []
          },
          "execution_count": 11
        }
      ]
    }
  ]
}