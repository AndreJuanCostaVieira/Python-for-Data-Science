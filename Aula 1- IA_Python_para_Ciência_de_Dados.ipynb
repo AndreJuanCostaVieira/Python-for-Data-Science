{
  "nbformat": 4,
  "nbformat_minor": 0,
  "metadata": {
    "kernelspec": {
      "display_name": "Python 3",
      "language": "python",
      "name": "python3"
    },
    "language_info": {
      "codemirror_mode": {
        "name": "ipython",
        "version": 3
      },
      "file_extension": ".py",
      "mimetype": "text/x-python",
      "name": "python",
      "nbconvert_exporter": "python",
      "pygments_lexer": "ipython3",
      "version": "3.7.3"
    },
    "colab": {
      "name": "Aula 1 - IA - Python para Ciência de Dados.ipynb",
      "provenance": []
    }
  },
  "cells": [
    {
      "cell_type": "markdown",
      "metadata": {
        "id": "JdswrB95Qvr1"
      },
      "source": [
        "# Primeira Aula"
      ]
    },
    {
      "cell_type": "markdown",
      "metadata": {
        "id": "XOE9jDpiQvr7"
      },
      "source": [
        "## 1) Conceitos básicos"
      ]
    },
    {
      "cell_type": "markdown",
      "metadata": {
        "id": "RCtlZqTrQvr8"
      },
      "source": [
        "### 1.1) Instalando bibliotecas"
      ]
    },
    {
      "cell_type": "code",
      "metadata": {
        "colab": {
          "base_uri": "https://localhost:8080/"
        },
        "id": "rN9JWxDhuXF9",
        "outputId": "17e30a98-ecfb-4cad-e47e-d67cd34da6b8"
      },
      "source": [
        "!pip install yellowbrick\n",
        "!pip install hermione-ml"
      ],
      "execution_count": null,
      "outputs": [
        {
          "output_type": "stream",
          "text": [
            "Requirement already satisfied: yellowbrick in /usr/local/lib/python3.7/dist-packages (0.9.1)\n",
            "Requirement already satisfied: matplotlib!=3.0.0,>=1.5.1 in /usr/local/lib/python3.7/dist-packages (from yellowbrick) (3.2.2)\n",
            "Requirement already satisfied: scikit-learn>=0.20 in /usr/local/lib/python3.7/dist-packages (from yellowbrick) (0.22.2.post1)\n",
            "Requirement already satisfied: scipy>=1.0.0 in /usr/local/lib/python3.7/dist-packages (from yellowbrick) (1.4.1)\n",
            "Requirement already satisfied: numpy>=1.13.0 in /usr/local/lib/python3.7/dist-packages (from yellowbrick) (1.19.5)\n",
            "Requirement already satisfied: cycler>=0.10.0 in /usr/local/lib/python3.7/dist-packages (from yellowbrick) (0.10.0)\n",
            "Requirement already satisfied: python-dateutil>=2.1 in /usr/local/lib/python3.7/dist-packages (from matplotlib!=3.0.0,>=1.5.1->yellowbrick) (2.8.1)\n",
            "Requirement already satisfied: pyparsing!=2.0.4,!=2.1.2,!=2.1.6,>=2.0.1 in /usr/local/lib/python3.7/dist-packages (from matplotlib!=3.0.0,>=1.5.1->yellowbrick) (2.4.7)\n",
            "Requirement already satisfied: kiwisolver>=1.0.1 in /usr/local/lib/python3.7/dist-packages (from matplotlib!=3.0.0,>=1.5.1->yellowbrick) (1.3.1)\n",
            "Requirement already satisfied: joblib>=0.11 in /usr/local/lib/python3.7/dist-packages (from scikit-learn>=0.20->yellowbrick) (1.0.1)\n",
            "Requirement already satisfied: six in /usr/local/lib/python3.7/dist-packages (from cycler>=0.10.0->yellowbrick) (1.15.0)\n",
            "Collecting hermione-ml\n",
            "\u001b[?25l  Downloading https://files.pythonhosted.org/packages/a1/6c/a9307263060b1e0591b00816540619ca50b66450e06cb34e907e4265df71/hermione_ml-0.3.4-py3-none-any.whl (83kB)\n",
            "\u001b[K     |████████████████████████████████| 92kB 3.7MB/s \n",
            "\u001b[?25hRequirement already satisfied: Click in /usr/local/lib/python3.7/dist-packages (from hermione-ml) (7.1.2)\n",
            "Installing collected packages: hermione-ml\n",
            "Successfully installed hermione-ml-0.3.4\n"
          ],
          "name": "stdout"
        }
      ]
    },
    {
      "cell_type": "code",
      "metadata": {
        "colab": {
          "base_uri": "https://localhost:8080/"
        },
        "id": "c9pP4G9CulLl",
        "outputId": "9c64f336-cb94-4c90-bc38-0fc1848e4cbf"
      },
      "source": [
        "!hermione info"
      ],
      "execution_count": null,
      "outputs": [
        {
          "output_type": "stream",
          "text": [
            "\n",
            " _                         _                  \n",
            "| |__   ___ _ __ _ __ ___ (_) ___  _ __   ___ \n",
            "| '_ \\ / _ \\ '__| '_ ` _ \\| |/ _ \\| '_ \\ / _ \\\n",
            "| | | |  __/ |  | | | | | | | (_) | | | |  __/\n",
            "|_| |_|\\___|_|  |_| |_| |_|_|\\___/|_| |_|\\___|\n",
            "v0.3.4\n",
            "\n"
          ],
          "name": "stdout"
        }
      ]
    },
    {
      "cell_type": "code",
      "metadata": {
        "scrolled": true,
        "id": "pruorIWCQvr8",
        "colab": {
          "base_uri": "https://localhost:8080/"
        },
        "outputId": "fc0e729d-31a1-4dab-b9c2-3dd7d3fed588"
      },
      "source": [
        "import yellowbrick"
      ],
      "execution_count": null,
      "outputs": [
        {
          "output_type": "stream",
          "text": [
            "/usr/local/lib/python3.7/dist-packages/sklearn/utils/deprecation.py:144: FutureWarning: The sklearn.metrics.classification module is  deprecated in version 0.22 and will be removed in version 0.24. The corresponding classes / functions should instead be imported from sklearn.metrics. Anything that cannot be imported from sklearn.metrics is now part of the private API.\n",
            "  warnings.warn(message, FutureWarning)\n"
          ],
          "name": "stderr"
        }
      ]
    },
    {
      "cell_type": "markdown",
      "metadata": {
        "id": "0qHx4IKSQvr9"
      },
      "source": [
        "### 1.2) \"Olá Mundo!\" no Python"
      ]
    },
    {
      "cell_type": "code",
      "metadata": {
        "scrolled": true,
        "id": "Dd2CKC6AQvr9"
      },
      "source": [
        "print(\"Arthur\")"
      ],
      "execution_count": null,
      "outputs": []
    },
    {
      "cell_type": "markdown",
      "metadata": {
        "id": "voSosVEfQvr-"
      },
      "source": [
        "### 1.3) Instruções"
      ]
    },
    {
      "cell_type": "code",
      "metadata": {
        "id": "OzWo8dv2Qvr-"
      },
      "source": [
        "x = 10\n",
        "x = x + 20"
      ],
      "execution_count": null,
      "outputs": []
    },
    {
      "cell_type": "code",
      "metadata": {
        "id": "bftIyEn_Qvr-",
        "colab": {
          "base_uri": "https://localhost:8080/"
        },
        "outputId": "9a79d8b6-c24d-4102-b7ff-1923516cf3d8"
      },
      "source": [
        "print(x)"
      ],
      "execution_count": null,
      "outputs": [
        {
          "output_type": "stream",
          "text": [
            "30\n"
          ],
          "name": "stdout"
        }
      ]
    },
    {
      "cell_type": "markdown",
      "metadata": {
        "id": "SACZXw0dQvr_"
      },
      "source": [
        "### 1.4) Operadores aritméticos"
      ]
    },
    {
      "cell_type": "code",
      "metadata": {
        "id": "zdM_Kt8aQvr_",
        "colab": {
          "base_uri": "https://localhost:8080/"
        },
        "outputId": "f4542016-4878-42ca-f3ac-f4dada4e8c53"
      },
      "source": [
        "30/10"
      ],
      "execution_count": null,
      "outputs": [
        {
          "output_type": "execute_result",
          "data": {
            "text/plain": [
              "3.0"
            ]
          },
          "metadata": {
            "tags": []
          },
          "execution_count": 1
        }
      ]
    },
    {
      "cell_type": "code",
      "metadata": {
        "colab": {
          "base_uri": "https://localhost:8080/"
        },
        "id": "ld64A-Y4to0u",
        "outputId": "31178509-bcc5-45b6-9308-865f397b7a74"
      },
      "source": [
        "60//39"
      ],
      "execution_count": null,
      "outputs": [
        {
          "output_type": "execute_result",
          "data": {
            "text/plain": [
              "1"
            ]
          },
          "metadata": {
            "tags": []
          },
          "execution_count": 3
        }
      ]
    },
    {
      "cell_type": "code",
      "metadata": {
        "colab": {
          "base_uri": "https://localhost:8080/"
        },
        "id": "_jYcza0Uuu82",
        "outputId": "97bc8698-8284-479a-9384-8e1adae855ae"
      },
      "source": [
        "x * 2"
      ],
      "execution_count": null,
      "outputs": [
        {
          "output_type": "execute_result",
          "data": {
            "text/plain": [
              "60"
            ]
          },
          "metadata": {
            "tags": []
          },
          "execution_count": 11
        }
      ]
    },
    {
      "cell_type": "code",
      "metadata": {
        "colab": {
          "base_uri": "https://localhost:8080/"
        },
        "id": "eZukNVVPuwdp",
        "outputId": "00d5ac55-3930-4a8c-eafa-9ead5ed6c2f8"
      },
      "source": [
        "x**3"
      ],
      "execution_count": null,
      "outputs": [
        {
          "output_type": "execute_result",
          "data": {
            "text/plain": [
              "27000"
            ]
          },
          "metadata": {
            "tags": []
          },
          "execution_count": 12
        }
      ]
    },
    {
      "cell_type": "code",
      "metadata": {
        "colab": {
          "base_uri": "https://localhost:8080/"
        },
        "id": "pt2a_JDmuza4",
        "outputId": "ce53e048-c7c5-410b-b4f2-a47a1aaf7238"
      },
      "source": [
        "x % 16"
      ],
      "execution_count": null,
      "outputs": [
        {
          "output_type": "execute_result",
          "data": {
            "text/plain": [
              "14"
            ]
          },
          "metadata": {
            "tags": []
          },
          "execution_count": 14
        }
      ]
    },
    {
      "cell_type": "code",
      "metadata": {
        "colab": {
          "base_uri": "https://localhost:8080/"
        },
        "id": "cYN2tw6_u759",
        "outputId": "a0ec7cc3-2eeb-46e0-b147-eb02717f4b1a"
      },
      "source": [
        "5 % 3"
      ],
      "execution_count": null,
      "outputs": [
        {
          "output_type": "execute_result",
          "data": {
            "text/plain": [
              "2"
            ]
          },
          "metadata": {
            "tags": []
          },
          "execution_count": 15
        }
      ]
    },
    {
      "cell_type": "markdown",
      "metadata": {
        "id": "2_NbG5l-Qvr_"
      },
      "source": [
        "### 1.4) Função print"
      ]
    },
    {
      "cell_type": "code",
      "metadata": {
        "id": "nO8iwcXtQvsA",
        "colab": {
          "base_uri": "https://localhost:8080/"
        },
        "outputId": "5a08d9c1-d4ce-4383-f4d5-e8c412eed956"
      },
      "source": [
        "print(x)"
      ],
      "execution_count": null,
      "outputs": [
        {
          "output_type": "stream",
          "text": [
            "30\n"
          ],
          "name": "stdout"
        }
      ]
    },
    {
      "cell_type": "markdown",
      "metadata": {
        "id": "FmfGlTsPQvsB"
      },
      "source": [
        "## Listas"
      ]
    },
    {
      "cell_type": "code",
      "metadata": {
        "id": "eLyAgOPcQvsB",
        "colab": {
          "base_uri": "https://localhost:8080/"
        },
        "outputId": "3ea9f011-5af9-494a-bba5-b1b91aa42b8f"
      },
      "source": [
        "numeros = []\n",
        "type(numeros)"
      ],
      "execution_count": null,
      "outputs": [
        {
          "output_type": "execute_result",
          "data": {
            "text/plain": [
              "list"
            ]
          },
          "metadata": {
            "tags": []
          },
          "execution_count": 16
        }
      ]
    },
    {
      "cell_type": "code",
      "metadata": {
        "colab": {
          "base_uri": "https://localhost:8080/"
        },
        "id": "MOZouyqMvwmq",
        "outputId": "9cf80a30-23b9-4ca0-b4d8-02446edcf717"
      },
      "source": [
        "numeros = list()\n",
        "type(numeros)"
      ],
      "execution_count": null,
      "outputs": [
        {
          "output_type": "execute_result",
          "data": {
            "text/plain": [
              "list"
            ]
          },
          "metadata": {
            "tags": []
          },
          "execution_count": 17
        }
      ]
    },
    {
      "cell_type": "markdown",
      "metadata": {
        "id": "fX97kiXVQvsC"
      },
      "source": [
        "### Listas de números"
      ]
    },
    {
      "cell_type": "code",
      "metadata": {
        "id": "lfE2Oux9QvsC"
      },
      "source": [
        "numeros = [1,2,39,45,12,64,23, 78]"
      ],
      "execution_count": null,
      "outputs": []
    },
    {
      "cell_type": "code",
      "metadata": {
        "colab": {
          "base_uri": "https://localhost:8080/"
        },
        "id": "kmXanIzEv7v_",
        "outputId": "dd429a09-3bea-472f-bb5d-0c972fc645d8"
      },
      "source": [
        "numeros"
      ],
      "execution_count": null,
      "outputs": [
        {
          "output_type": "execute_result",
          "data": {
            "text/plain": [
              "[1, 2, 39, 45, 12, 64, 23, 78]"
            ]
          },
          "metadata": {
            "tags": []
          },
          "execution_count": 19
        }
      ]
    },
    {
      "cell_type": "markdown",
      "metadata": {
        "id": "xybDKoRmQvsC"
      },
      "source": [
        "### Listas de strings"
      ]
    },
    {
      "cell_type": "code",
      "metadata": {
        "id": "ywLTAopCQvsD"
      },
      "source": [
        "nomes = [\"João\", 'Maria', 'Augusta', 'Ana', 'Marcela', \"Pedro\"]"
      ],
      "execution_count": null,
      "outputs": []
    },
    {
      "cell_type": "code",
      "metadata": {
        "colab": {
          "base_uri": "https://localhost:8080/"
        },
        "id": "fByuMVV_wD7m",
        "outputId": "895f57ca-7b25-4322-ff20-87097448929a"
      },
      "source": [
        "type(nomes)"
      ],
      "execution_count": null,
      "outputs": [
        {
          "output_type": "execute_result",
          "data": {
            "text/plain": [
              "list"
            ]
          },
          "metadata": {
            "tags": []
          },
          "execution_count": 21
        }
      ]
    },
    {
      "cell_type": "markdown",
      "metadata": {
        "id": "lW4w48ZrQvsD"
      },
      "source": [
        "### Operação com Sequências\n",
        "* Verificar se um item está na lista - comando **in**"
      ]
    },
    {
      "cell_type": "code",
      "metadata": {
        "id": "kX0pOvbCQvsD",
        "colab": {
          "base_uri": "https://localhost:8080/"
        },
        "outputId": "9d988a90-30d5-4d9b-bae8-583d51f80296"
      },
      "source": [
        "\"Ana\" in nomes"
      ],
      "execution_count": null,
      "outputs": [
        {
          "output_type": "execute_result",
          "data": {
            "text/plain": [
              "True"
            ]
          },
          "metadata": {
            "tags": []
          },
          "execution_count": 22
        }
      ]
    },
    {
      "cell_type": "code",
      "metadata": {
        "colab": {
          "base_uri": "https://localhost:8080/"
        },
        "id": "cdRXbZoEwqSK",
        "outputId": "e3fc043a-4fee-4255-dd9a-c144c680ba52"
      },
      "source": [
        "\"Tiririca\" in nomes"
      ],
      "execution_count": null,
      "outputs": [
        {
          "output_type": "execute_result",
          "data": {
            "text/plain": [
              "False"
            ]
          },
          "metadata": {
            "tags": []
          },
          "execution_count": 23
        }
      ]
    },
    {
      "cell_type": "markdown",
      "metadata": {
        "id": "oHxvbC0uQvsE"
      },
      "source": [
        "* Verificar se um item não está na lista **not in**"
      ]
    },
    {
      "cell_type": "code",
      "metadata": {
        "id": "h2jvY2cYQvsE",
        "colab": {
          "base_uri": "https://localhost:8080/"
        },
        "outputId": "96efeac9-65e0-4ecc-e9bd-b6eda7475a51"
      },
      "source": [
        "\"Tiririca\" not in nomes"
      ],
      "execution_count": null,
      "outputs": [
        {
          "output_type": "execute_result",
          "data": {
            "text/plain": [
              "True"
            ]
          },
          "metadata": {
            "tags": []
          },
          "execution_count": 26
        }
      ]
    },
    {
      "cell_type": "markdown",
      "metadata": {
        "id": "DPxfU9SxQvsE"
      },
      "source": [
        "* Concatenar lista"
      ]
    },
    {
      "cell_type": "code",
      "metadata": {
        "id": "j3voziIWQvsE",
        "colab": {
          "base_uri": "https://localhost:8080/"
        },
        "outputId": "2e251547-2fbd-4aaa-9d34-fecf8b824bc4"
      },
      "source": [
        "lista_misturada = nomes + numeros\n",
        "lista_misturada"
      ],
      "execution_count": null,
      "outputs": [
        {
          "output_type": "execute_result",
          "data": {
            "text/plain": [
              "['João',\n",
              " 'Maria',\n",
              " 'Augusta',\n",
              " 'Ana',\n",
              " 'Marcela',\n",
              " 'Pedro',\n",
              " 1,\n",
              " 2,\n",
              " 39,\n",
              " 45,\n",
              " 12,\n",
              " 64,\n",
              " 23,\n",
              " 78]"
            ]
          },
          "metadata": {
            "tags": []
          },
          "execution_count": 32
        }
      ]
    },
    {
      "cell_type": "code",
      "metadata": {
        "colab": {
          "base_uri": "https://localhost:8080/"
        },
        "id": "TWdYQ4rxxGgn",
        "outputId": "d832976f-cb73-42de-d7a8-a8df8470e274"
      },
      "source": [
        "novos_nomes = nomes + [\"Gizele\", \"Gabriel\", \"Ana\"]\n",
        "print(novos_nomes)"
      ],
      "execution_count": null,
      "outputs": [
        {
          "output_type": "stream",
          "text": [
            "['João', 'Maria', 'Augusta', 'Ana', 'Marcela', 'Pedro', 'Gizele', 'Gabriel', 'Ana']\n"
          ],
          "name": "stdout"
        }
      ]
    },
    {
      "cell_type": "markdown",
      "metadata": {
        "id": "9h6blTZXQvsF"
      },
      "source": [
        "* Replicar a lista n vezes"
      ]
    },
    {
      "cell_type": "code",
      "metadata": {
        "id": "uaYUnYvvQvsF",
        "colab": {
          "base_uri": "https://localhost:8080/"
        },
        "outputId": "0512918b-142a-442e-e3ee-aaa36d12fccf"
      },
      "source": [
        "numeros * 3"
      ],
      "execution_count": null,
      "outputs": [
        {
          "output_type": "execute_result",
          "data": {
            "text/plain": [
              "[1,\n",
              " 2,\n",
              " 39,\n",
              " 45,\n",
              " 12,\n",
              " 64,\n",
              " 23,\n",
              " 78,\n",
              " 1,\n",
              " 2,\n",
              " 39,\n",
              " 45,\n",
              " 12,\n",
              " 64,\n",
              " 23,\n",
              " 78,\n",
              " 1,\n",
              " 2,\n",
              " 39,\n",
              " 45,\n",
              " 12,\n",
              " 64,\n",
              " 23,\n",
              " 78]"
            ]
          },
          "metadata": {
            "tags": []
          },
          "execution_count": 35
        }
      ]
    },
    {
      "cell_type": "markdown",
      "metadata": {
        "id": "uW0pNtU4QvsF"
      },
      "source": [
        "* Acessar uma posição da lista"
      ]
    },
    {
      "cell_type": "code",
      "metadata": {
        "colab": {
          "base_uri": "https://localhost:8080/"
        },
        "id": "daq2B3GZyUpg",
        "outputId": "61228efe-f5d5-42b0-ddd6-b603169cb1e7"
      },
      "source": [
        "nomes"
      ],
      "execution_count": null,
      "outputs": [
        {
          "output_type": "execute_result",
          "data": {
            "text/plain": [
              "['João', 'Maria', 'Augusta', 'Ana', 'Marcela', 'Pedro']"
            ]
          },
          "metadata": {
            "tags": []
          },
          "execution_count": 40
        }
      ]
    },
    {
      "cell_type": "code",
      "metadata": {
        "id": "MWVo80BgQvsG",
        "colab": {
          "base_uri": "https://localhost:8080/",
          "height": 36
        },
        "outputId": "cd6482d1-6d02-4a58-fb1c-b16236d08611"
      },
      "source": [
        "nomes[0]"
      ],
      "execution_count": null,
      "outputs": [
        {
          "output_type": "execute_result",
          "data": {
            "application/vnd.google.colaboratory.intrinsic+json": {
              "type": "string"
            },
            "text/plain": [
              "'João'"
            ]
          },
          "metadata": {
            "tags": []
          },
          "execution_count": 43
        }
      ]
    },
    {
      "cell_type": "code",
      "metadata": {
        "colab": {
          "base_uri": "https://localhost:8080/",
          "height": 36
        },
        "id": "7ZPXOul2yZqI",
        "outputId": "3e891947-69d3-4434-fb81-e0c76f9d2edb"
      },
      "source": [
        "nomes[-6]"
      ],
      "execution_count": null,
      "outputs": [
        {
          "output_type": "execute_result",
          "data": {
            "application/vnd.google.colaboratory.intrinsic+json": {
              "type": "string"
            },
            "text/plain": [
              "'João'"
            ]
          },
          "metadata": {
            "tags": []
          },
          "execution_count": 44
        }
      ]
    },
    {
      "cell_type": "markdown",
      "metadata": {
        "id": "0VwK5J-4QvsG"
      },
      "source": [
        "* Recuperar uma fatia da lista"
      ]
    },
    {
      "cell_type": "code",
      "metadata": {
        "id": "JXIlbakkQvsG",
        "colab": {
          "base_uri": "https://localhost:8080/"
        },
        "outputId": "840790a8-ee0f-4066-ca56-acc4a1b57111"
      },
      "source": [
        "nomes[1:5]"
      ],
      "execution_count": null,
      "outputs": [
        {
          "output_type": "execute_result",
          "data": {
            "text/plain": [
              "['Maria', 'Augusta', 'Ana', 'Marcela']"
            ]
          },
          "metadata": {
            "tags": []
          },
          "execution_count": 45
        }
      ]
    },
    {
      "cell_type": "code",
      "metadata": {
        "colab": {
          "base_uri": "https://localhost:8080/"
        },
        "id": "xGsKICSXzpS1",
        "outputId": "bafa0ee4-2280-4067-a82a-faac059273a5"
      },
      "source": [
        "novos_nomes[:5]"
      ],
      "execution_count": null,
      "outputs": [
        {
          "output_type": "execute_result",
          "data": {
            "text/plain": [
              "['João', 'Maria', 'Augusta', 'Ana', 'Marcela']"
            ]
          },
          "metadata": {
            "tags": []
          },
          "execution_count": 51
        }
      ]
    },
    {
      "cell_type": "code",
      "metadata": {
        "id": "kPB3CEA2QvsH",
        "colab": {
          "base_uri": "https://localhost:8080/"
        },
        "outputId": "9088b80b-9074-43dd-ab05-3793a58685ac"
      },
      "source": [
        "novos_nomes[1:]"
      ],
      "execution_count": null,
      "outputs": [
        {
          "output_type": "execute_result",
          "data": {
            "text/plain": [
              "['Maria', 'Augusta', 'Ana', 'Marcela', 'Pedro', 'Gizele', 'Gabriel']"
            ]
          },
          "metadata": {
            "tags": []
          },
          "execution_count": 49
        }
      ]
    },
    {
      "cell_type": "markdown",
      "metadata": {
        "id": "sF8JXt31QvsG"
      },
      "source": [
        "* Recuperar uma fatia da lista dado um passo k"
      ]
    },
    {
      "cell_type": "code",
      "metadata": {
        "colab": {
          "base_uri": "https://localhost:8080/"
        },
        "id": "wjrwvLoVz5JW",
        "outputId": "a36f9d8b-b9a1-452a-fd94-19199ed5bb38"
      },
      "source": [
        "novos_nomes"
      ],
      "execution_count": null,
      "outputs": [
        {
          "output_type": "execute_result",
          "data": {
            "text/plain": [
              "['João', 'Maria', 'Augusta', 'Ana', 'Marcela', 'Pedro', 'Gizele', 'Gabriel']"
            ]
          },
          "metadata": {
            "tags": []
          },
          "execution_count": 53
        }
      ]
    },
    {
      "cell_type": "code",
      "metadata": {
        "colab": {
          "base_uri": "https://localhost:8080/"
        },
        "id": "B8KPuAobztKi",
        "outputId": "96f6a223-9c56-4703-a1ff-87b528cbe980"
      },
      "source": [
        "novos_nomes[1:9:2]"
      ],
      "execution_count": null,
      "outputs": [
        {
          "output_type": "execute_result",
          "data": {
            "text/plain": [
              "['Maria', 'Ana', 'Pedro', 'Gabriel']"
            ]
          },
          "metadata": {
            "tags": []
          },
          "execution_count": 54
        }
      ]
    },
    {
      "cell_type": "code",
      "metadata": {
        "colab": {
          "base_uri": "https://localhost:8080/"
        },
        "id": "IEvL5iRo0EKb",
        "outputId": "16d5587e-22c9-4a95-aba5-094b4767879a"
      },
      "source": [
        "novos_nomes[1:9:3]"
      ],
      "execution_count": null,
      "outputs": [
        {
          "output_type": "execute_result",
          "data": {
            "text/plain": [
              "['Maria', 'Marcela', 'Gabriel']"
            ]
          },
          "metadata": {
            "tags": []
          },
          "execution_count": 55
        }
      ]
    },
    {
      "cell_type": "markdown",
      "metadata": {
        "id": "fTetwlC4QvsH"
      },
      "source": [
        "* Recuperar o tamanho da lista"
      ]
    },
    {
      "cell_type": "code",
      "metadata": {
        "id": "c24URVBjQvsH",
        "colab": {
          "base_uri": "https://localhost:8080/"
        },
        "outputId": "9ab66a89-2b3e-444d-982f-c82fc5c9f452"
      },
      "source": [
        "len(novos_nomes)"
      ],
      "execution_count": null,
      "outputs": [
        {
          "output_type": "execute_result",
          "data": {
            "text/plain": [
              "8"
            ]
          },
          "metadata": {
            "tags": []
          },
          "execution_count": 56
        }
      ]
    },
    {
      "cell_type": "code",
      "metadata": {
        "id": "-xlq2-W4QvsH",
        "colab": {
          "base_uri": "https://localhost:8080/"
        },
        "outputId": "56bee53f-ede3-4483-cab8-aef9e551a3ba"
      },
      "source": [
        "len(nomes)"
      ],
      "execution_count": null,
      "outputs": [
        {
          "output_type": "execute_result",
          "data": {
            "text/plain": [
              "6"
            ]
          },
          "metadata": {
            "tags": []
          },
          "execution_count": 57
        }
      ]
    },
    {
      "cell_type": "code",
      "metadata": {
        "colab": {
          "base_uri": "https://localhost:8080/"
        },
        "id": "jGsCxQ3I0XJn",
        "outputId": "34927a0c-570f-42ba-9e8f-e6d3bc34b964"
      },
      "source": [
        "len([\"Arthur\", \"Maria\"])"
      ],
      "execution_count": null,
      "outputs": [
        {
          "output_type": "execute_result",
          "data": {
            "text/plain": [
              "2"
            ]
          },
          "metadata": {
            "tags": []
          },
          "execution_count": 58
        }
      ]
    },
    {
      "cell_type": "markdown",
      "metadata": {
        "id": "mNbg0izsQvsI"
      },
      "source": [
        "* Menor elemento da lista"
      ]
    },
    {
      "cell_type": "code",
      "metadata": {
        "colab": {
          "base_uri": "https://localhost:8080/"
        },
        "id": "WjdEHy0W0grZ",
        "outputId": "a93b5a4e-69b2-4b78-ce57-e42980856d03"
      },
      "source": [
        "numeros"
      ],
      "execution_count": null,
      "outputs": [
        {
          "output_type": "execute_result",
          "data": {
            "text/plain": [
              "[1, 2, 39, 45, 12, 64, 23, 78]"
            ]
          },
          "metadata": {
            "tags": []
          },
          "execution_count": 60
        }
      ]
    },
    {
      "cell_type": "code",
      "metadata": {
        "id": "gL049PxGQvsI",
        "colab": {
          "base_uri": "https://localhost:8080/"
        },
        "outputId": "e6b265b3-918d-46ac-b8c7-92a60944a36a"
      },
      "source": [
        "min(numeros)"
      ],
      "execution_count": null,
      "outputs": [
        {
          "output_type": "execute_result",
          "data": {
            "text/plain": [
              "1"
            ]
          },
          "metadata": {
            "tags": []
          },
          "execution_count": 59
        }
      ]
    },
    {
      "cell_type": "code",
      "metadata": {
        "colab": {
          "base_uri": "https://localhost:8080/",
          "height": 36
        },
        "id": "ljnB4wDM0ovq",
        "outputId": "148965fb-8717-4f10-d3c7-d302ad0a040e"
      },
      "source": [
        "min(novos_nomes)"
      ],
      "execution_count": null,
      "outputs": [
        {
          "output_type": "execute_result",
          "data": {
            "application/vnd.google.colaboratory.intrinsic+json": {
              "type": "string"
            },
            "text/plain": [
              "'Ana'"
            ]
          },
          "metadata": {
            "tags": []
          },
          "execution_count": 62
        }
      ]
    },
    {
      "cell_type": "markdown",
      "metadata": {
        "id": "np5aw98KQvsK"
      },
      "source": [
        "* Maior elemento da lista"
      ]
    },
    {
      "cell_type": "code",
      "metadata": {
        "id": "cAL6Y9QiQvsK",
        "colab": {
          "base_uri": "https://localhost:8080/"
        },
        "outputId": "6cc3f416-c193-4f02-ff10-3e75d909a087"
      },
      "source": [
        "max(numeros)"
      ],
      "execution_count": null,
      "outputs": [
        {
          "output_type": "execute_result",
          "data": {
            "text/plain": [
              "78"
            ]
          },
          "metadata": {
            "tags": []
          },
          "execution_count": 61
        }
      ]
    },
    {
      "cell_type": "code",
      "metadata": {
        "colab": {
          "base_uri": "https://localhost:8080/",
          "height": 36
        },
        "id": "VzFW_04Y0tLS",
        "outputId": "f063fff8-2a90-4108-b11f-323afc952347"
      },
      "source": [
        "max(novos_nomes)"
      ],
      "execution_count": null,
      "outputs": [
        {
          "output_type": "execute_result",
          "data": {
            "application/vnd.google.colaboratory.intrinsic+json": {
              "type": "string"
            },
            "text/plain": [
              "'Pedro'"
            ]
          },
          "metadata": {
            "tags": []
          },
          "execution_count": 63
        }
      ]
    },
    {
      "cell_type": "markdown",
      "metadata": {
        "id": "pFF-D3OvQvsK"
      },
      "source": [
        "* Número de ocorrências de um elemento na lista"
      ]
    },
    {
      "cell_type": "code",
      "metadata": {
        "scrolled": true,
        "id": "1EMC_5iDQvsK",
        "colab": {
          "base_uri": "https://localhost:8080/"
        },
        "outputId": "59ec40a8-3beb-4ea1-8944-29830c666a35"
      },
      "source": [
        "novos_nomes.count(\"Arthur\")"
      ],
      "execution_count": null,
      "outputs": [
        {
          "output_type": "execute_result",
          "data": {
            "text/plain": [
              "0"
            ]
          },
          "metadata": {
            "tags": []
          },
          "execution_count": 65
        }
      ]
    },
    {
      "cell_type": "code",
      "metadata": {
        "colab": {
          "base_uri": "https://localhost:8080/"
        },
        "id": "Tv6TqXo51FIi",
        "outputId": "d85f8e53-79c8-453b-98ca-296a094dbe0c"
      },
      "source": [
        "novos_nomes.count(\"Ana\")"
      ],
      "execution_count": null,
      "outputs": [
        {
          "output_type": "execute_result",
          "data": {
            "text/plain": [
              "2"
            ]
          },
          "metadata": {
            "tags": []
          },
          "execution_count": 66
        }
      ]
    },
    {
      "cell_type": "markdown",
      "metadata": {
        "id": "SAFK7A2AQvsL"
      },
      "source": [
        "* Acessar a última posição na lista"
      ]
    },
    {
      "cell_type": "code",
      "metadata": {
        "id": "zZRIN5PiQvsL",
        "colab": {
          "base_uri": "https://localhost:8080/",
          "height": 36
        },
        "outputId": "b0c2adc7-76d2-45dd-99a1-070067d7cc97"
      },
      "source": [
        "novos_nomes[-1]"
      ],
      "execution_count": null,
      "outputs": [
        {
          "output_type": "execute_result",
          "data": {
            "application/vnd.google.colaboratory.intrinsic+json": {
              "type": "string"
            },
            "text/plain": [
              "'Ana'"
            ]
          },
          "metadata": {
            "tags": []
          },
          "execution_count": 67
        }
      ]
    },
    {
      "cell_type": "code",
      "metadata": {
        "colab": {
          "base_uri": "https://localhost:8080/",
          "height": 36
        },
        "id": "4fJMnbDW1N8_",
        "outputId": "c72e0f36-aecd-4d96-8caa-30a1471b160e"
      },
      "source": [
        "qtde_elementos = len(novos_nomes)\n",
        "novos_nomes[qtde_elementos-1]"
      ],
      "execution_count": null,
      "outputs": [
        {
          "output_type": "execute_result",
          "data": {
            "application/vnd.google.colaboratory.intrinsic+json": {
              "type": "string"
            },
            "text/plain": [
              "'Ana'"
            ]
          },
          "metadata": {
            "tags": []
          },
          "execution_count": 69
        }
      ]
    },
    {
      "cell_type": "code",
      "metadata": {
        "colab": {
          "base_uri": "https://localhost:8080/",
          "height": 36
        },
        "id": "gbE_m9XQ1nyH",
        "outputId": "b5e28ab6-07b9-4984-b88d-f293f82fe908"
      },
      "source": [
        "novos_nomes[len(novos_nomes)-1]"
      ],
      "execution_count": null,
      "outputs": [
        {
          "output_type": "execute_result",
          "data": {
            "application/vnd.google.colaboratory.intrinsic+json": {
              "type": "string"
            },
            "text/plain": [
              "'Ana'"
            ]
          },
          "metadata": {
            "tags": []
          },
          "execution_count": 70
        }
      ]
    },
    {
      "cell_type": "markdown",
      "metadata": {
        "id": "cusLfW0xQvsL"
      },
      "source": [
        "* Adicionar um elemento na lista (append)"
      ]
    },
    {
      "cell_type": "code",
      "metadata": {
        "id": "gRvf47-OQvsL"
      },
      "source": [
        ""
      ],
      "execution_count": null,
      "outputs": []
    },
    {
      "cell_type": "markdown",
      "metadata": {
        "id": "CcPa23aqQvsM"
      },
      "source": [
        "* Adicionar vários elementos na lista (extend ou concatenação)"
      ]
    },
    {
      "cell_type": "code",
      "metadata": {
        "id": "lOnysQJPQvsN"
      },
      "source": [
        ""
      ],
      "execution_count": null,
      "outputs": []
    },
    {
      "cell_type": "markdown",
      "metadata": {
        "id": "Jc8OSnHOQvsN"
      },
      "source": [
        "* Remover um item da lista"
      ]
    },
    {
      "cell_type": "code",
      "metadata": {
        "id": "byqit7QLQvsO"
      },
      "source": [
        ""
      ],
      "execution_count": null,
      "outputs": []
    },
    {
      "cell_type": "markdown",
      "metadata": {
        "id": "nY4U8NoJQvsO"
      },
      "source": [
        "* Alterar um valor da lista"
      ]
    },
    {
      "cell_type": "markdown",
      "metadata": {
        "id": "b_VcolVQQvsP"
      },
      "source": [
        "### Tuplas"
      ]
    },
    {
      "cell_type": "code",
      "metadata": {
        "id": "C-xtd2HtQvsP"
      },
      "source": [
        ""
      ],
      "execution_count": null,
      "outputs": []
    },
    {
      "cell_type": "markdown",
      "metadata": {
        "id": "vgzws8d5QvsQ"
      },
      "source": [
        "* Adicionar ou alterar um item na tupla?"
      ]
    },
    {
      "cell_type": "code",
      "metadata": {
        "id": "nmUwMNIfQvsQ"
      },
      "source": [
        ""
      ],
      "execution_count": null,
      "outputs": []
    },
    {
      "cell_type": "markdown",
      "metadata": {
        "id": "UKcIVL00QvsQ"
      },
      "source": [
        "### Range"
      ]
    },
    {
      "cell_type": "markdown",
      "metadata": {
        "id": "IXPlscG3QvsQ"
      },
      "source": [
        "* Construir um intervalo de 1 à 10 e transformá-lo em uma lista"
      ]
    },
    {
      "cell_type": "code",
      "metadata": {
        "id": "yUtzjSeLVHje"
      },
      "source": [
        ""
      ],
      "execution_count": null,
      "outputs": []
    },
    {
      "cell_type": "markdown",
      "metadata": {
        "id": "cPKwZ7f6QvsR"
      },
      "source": [
        "* Construir um intervalo de 1 à 100 só com os multiplos de 4"
      ]
    },
    {
      "cell_type": "code",
      "metadata": {
        "id": "JMpWiE0_QvsR"
      },
      "source": [
        ""
      ],
      "execution_count": null,
      "outputs": []
    }
  ]
}